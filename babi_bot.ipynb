{
  "nbformat": 4,
  "nbformat_minor": 0,
  "metadata": {
    "colab": {
      "name": "babi-bot.ipynb",
      "provenance": [],
      "collapsed_sections": []
    },
    "kernelspec": {
      "name": "python3",
      "display_name": "Python 3"
    },
    "language_info": {
      "name": "python"
    }
  },
  "cells": [
    {
      "cell_type": "code",
      "source": [
        "from google.colab import drive\n",
        "drive.mount('/gdrive')"
      ],
      "metadata": {
        "colab": {
          "base_uri": "https://localhost:8080/"
        },
        "id": "UEjXWQWAfYHt",
        "outputId": "75b978ea-a7e4-4dfe-fae9-3ba01b64a7c3"
      },
      "execution_count": 1,
      "outputs": [
        {
          "output_type": "stream",
          "name": "stdout",
          "text": [
            "Mounted at /gdrive\n"
          ]
        }
      ]
    },
    {
      "cell_type": "code",
      "source": [
        "from google.colab import files\n",
        "files.upload()"
      ],
      "metadata": {
        "id": "u9r3bVBLfcR_"
      },
      "execution_count": null,
      "outputs": []
    },
    {
      "cell_type": "code",
      "source": [
        "files.upload()"
      ],
      "metadata": {
        "id": "DiEwzfpwfjIA"
      },
      "execution_count": null,
      "outputs": []
    },
    {
      "cell_type": "code",
      "source": [
        "import pickle \n",
        "import numpy as np"
      ],
      "metadata": {
        "id": "aOlCyZjogg25"
      },
      "execution_count": 5,
      "outputs": []
    },
    {
      "cell_type": "code",
      "source": [
        "with open(\"train_qa.txt\", \"rb\") as f:\n",
        "    train_data = pickle.load(f)"
      ],
      "metadata": {
        "id": "unfZWIFofjIA"
      },
      "execution_count": 6,
      "outputs": []
    },
    {
      "cell_type": "code",
      "source": [
        "with open(\"test_qa.txt\", \"rb\") as f:\n",
        "    test_data = pickle.load(f)"
      ],
      "metadata": {
        "id": "-_UPnsbAge1V"
      },
      "execution_count": 7,
      "outputs": []
    },
    {
      "cell_type": "code",
      "source": [
        "type(test_data)\n",
        "type(train_data)\n",
        "len(test_data)\n",
        "len(train_data)"
      ],
      "metadata": {
        "colab": {
          "base_uri": "https://localhost:8080/"
        },
        "id": "Ta4D8rsugoTc",
        "outputId": "2939f3c9-458b-4b1d-8c08-0438c11e1ab9"
      },
      "execution_count": 8,
      "outputs": [
        {
          "output_type": "execute_result",
          "data": {
            "text/plain": [
              "list"
            ]
          },
          "metadata": {},
          "execution_count": 8
        }
      ]
    },
    {
      "cell_type": "code",
      "source": [
        "train_data[0]"
      ],
      "metadata": {
        "colab": {
          "base_uri": "https://localhost:8080/"
        },
        "id": "NcI7UZ6NguYg",
        "outputId": "296999b8-f169-41c5-feb4-4063bea756d9"
      },
      "execution_count": 12,
      "outputs": [
        {
          "output_type": "execute_result",
          "data": {
            "text/plain": [
              "(['Mary',\n",
              "  'moved',\n",
              "  'to',\n",
              "  'the',\n",
              "  'bathroom',\n",
              "  '.',\n",
              "  'Sandra',\n",
              "  'journeyed',\n",
              "  'to',\n",
              "  'the',\n",
              "  'bedroom',\n",
              "  '.'],\n",
              " ['Is', 'Sandra', 'in', 'the', 'hallway', '?'],\n",
              " 'no')"
            ]
          },
          "metadata": {},
          "execution_count": 12
        }
      ]
    },
    {
      "cell_type": "code",
      "source": [
        "' '.join(train_data[0][0])"
      ],
      "metadata": {
        "colab": {
          "base_uri": "https://localhost:8080/",
          "height": 35
        },
        "id": "73h6Uexjg0WV",
        "outputId": "3a568ceb-343c-4363-ae86-bbb5b481c5d1"
      },
      "execution_count": 13,
      "outputs": [
        {
          "output_type": "execute_result",
          "data": {
            "text/plain": [
              "'Mary moved to the bathroom . Sandra journeyed to the bedroom .'"
            ],
            "application/vnd.google.colaboratory.intrinsic+json": {
              "type": "string"
            }
          },
          "metadata": {},
          "execution_count": 13
        }
      ]
    },
    {
      "cell_type": "code",
      "source": [
        "' '.join(train_data[0][1])"
      ],
      "metadata": {
        "colab": {
          "base_uri": "https://localhost:8080/",
          "height": 35
        },
        "id": "B7dOy9jBg4dv",
        "outputId": "685ef9ab-8237-4813-a0fe-f8d96996d0b5"
      },
      "execution_count": 14,
      "outputs": [
        {
          "output_type": "execute_result",
          "data": {
            "text/plain": [
              "'Is Sandra in the hallway ?'"
            ],
            "application/vnd.google.colaboratory.intrinsic+json": {
              "type": "string"
            }
          },
          "metadata": {},
          "execution_count": 14
        }
      ]
    },
    {
      "cell_type": "code",
      "source": [
        "train_data[0][2]"
      ],
      "metadata": {
        "colab": {
          "base_uri": "https://localhost:8080/",
          "height": 35
        },
        "id": "7VnvOLQ7g6mK",
        "outputId": "15e0a912-d7b0-4905-804b-af95a9902c92"
      },
      "execution_count": 15,
      "outputs": [
        {
          "output_type": "execute_result",
          "data": {
            "text/plain": [
              "'no'"
            ],
            "application/vnd.google.colaboratory.intrinsic+json": {
              "type": "string"
            }
          },
          "metadata": {},
          "execution_count": 15
        }
      ]
    },
    {
      "cell_type": "code",
      "source": [
        "# Set up the vocabulary "
      ],
      "metadata": {
        "id": "4ZcWOkDhg9SM"
      },
      "execution_count": 16,
      "outputs": []
    },
    {
      "cell_type": "code",
      "source": [
        "vocab = set() # this will hold the vocab\n",
        "\n",
        "all_data = test_data + train_data"
      ],
      "metadata": {
        "id": "brUtLcnwhAOn"
      },
      "execution_count": 17,
      "outputs": []
    },
    {
      "cell_type": "code",
      "source": [
        "for story, question, answer in all_data:\n",
        "    vocab = vocab.union(set(story))\n",
        "    vocab = vocab.union(set(question))"
      ],
      "metadata": {
        "id": "rzlfDnIIhG94"
      },
      "execution_count": 19,
      "outputs": []
    },
    {
      "cell_type": "code",
      "source": [
        "vocab.add('no')\n",
        "vocab.add('yes')"
      ],
      "metadata": {
        "id": "OGMAxDD9hRai"
      },
      "execution_count": 20,
      "outputs": []
    },
    {
      "cell_type": "code",
      "source": [
        "vocab"
      ],
      "metadata": {
        "colab": {
          "base_uri": "https://localhost:8080/"
        },
        "id": "r4KO4nkEhXQ1",
        "outputId": "d99a2cdf-a801-46a5-e8c5-c3775919601c"
      },
      "execution_count": 21,
      "outputs": [
        {
          "output_type": "execute_result",
          "data": {
            "text/plain": [
              "{'.',\n",
              " '?',\n",
              " 'Daniel',\n",
              " 'Is',\n",
              " 'John',\n",
              " 'Mary',\n",
              " 'Sandra',\n",
              " 'apple',\n",
              " 'back',\n",
              " 'bathroom',\n",
              " 'bedroom',\n",
              " 'discarded',\n",
              " 'down',\n",
              " 'dropped',\n",
              " 'football',\n",
              " 'garden',\n",
              " 'got',\n",
              " 'grabbed',\n",
              " 'hallway',\n",
              " 'in',\n",
              " 'journeyed',\n",
              " 'kitchen',\n",
              " 'left',\n",
              " 'milk',\n",
              " 'moved',\n",
              " 'no',\n",
              " 'office',\n",
              " 'picked',\n",
              " 'put',\n",
              " 'the',\n",
              " 'there',\n",
              " 'to',\n",
              " 'took',\n",
              " 'travelled',\n",
              " 'up',\n",
              " 'went',\n",
              " 'yes'}"
            ]
          },
          "metadata": {},
          "execution_count": 21
        }
      ]
    },
    {
      "cell_type": "code",
      "source": [
        "vocab_len = len(vocab) + 1 # add an extra space to hold a 0 for Keras' pad sequences\n",
        "\n",
        "max_story_len = max([len(data[0]) for data in all_data])\n",
        "\n",
        "max_story_len"
      ],
      "metadata": {
        "colab": {
          "base_uri": "https://localhost:8080/"
        },
        "id": "cuR6kvWqhXwA",
        "outputId": "d4d1302d-a150-44c5-de8a-018edbc3e170"
      },
      "execution_count": 22,
      "outputs": [
        {
          "output_type": "execute_result",
          "data": {
            "text/plain": [
              "156"
            ]
          },
          "metadata": {},
          "execution_count": 22
        }
      ]
    },
    {
      "cell_type": "code",
      "source": [
        "max_question_len = max([len(data[1]) for data in all_data])\n",
        "\n",
        "max_question_len"
      ],
      "metadata": {
        "colab": {
          "base_uri": "https://localhost:8080/"
        },
        "id": "Jv5Z-UlVhpr_",
        "outputId": "972776ea-49d6-4ba2-80d6-d1db9ee7be7c"
      },
      "execution_count": 23,
      "outputs": [
        {
          "output_type": "execute_result",
          "data": {
            "text/plain": [
              "6"
            ]
          },
          "metadata": {},
          "execution_count": 23
        }
      ]
    },
    {
      "cell_type": "markdown",
      "source": [
        "### Vectorize Data"
      ],
      "metadata": {
        "id": "oGmbc4cfhvxE"
      }
    },
    {
      "cell_type": "code",
      "source": [
        "vocab"
      ],
      "metadata": {
        "colab": {
          "base_uri": "https://localhost:8080/"
        },
        "id": "qYBk9TuJhy9r",
        "outputId": "5dd59df9-b7c9-4df2-f035-6918b12b5eca"
      },
      "execution_count": 24,
      "outputs": [
        {
          "output_type": "execute_result",
          "data": {
            "text/plain": [
              "{'.',\n",
              " '?',\n",
              " 'Daniel',\n",
              " 'Is',\n",
              " 'John',\n",
              " 'Mary',\n",
              " 'Sandra',\n",
              " 'apple',\n",
              " 'back',\n",
              " 'bathroom',\n",
              " 'bedroom',\n",
              " 'discarded',\n",
              " 'down',\n",
              " 'dropped',\n",
              " 'football',\n",
              " 'garden',\n",
              " 'got',\n",
              " 'grabbed',\n",
              " 'hallway',\n",
              " 'in',\n",
              " 'journeyed',\n",
              " 'kitchen',\n",
              " 'left',\n",
              " 'milk',\n",
              " 'moved',\n",
              " 'no',\n",
              " 'office',\n",
              " 'picked',\n",
              " 'put',\n",
              " 'the',\n",
              " 'there',\n",
              " 'to',\n",
              " 'took',\n",
              " 'travelled',\n",
              " 'up',\n",
              " 'went',\n",
              " 'yes'}"
            ]
          },
          "metadata": {},
          "execution_count": 24
        }
      ]
    },
    {
      "cell_type": "code",
      "source": [
        "vocab_size = len(vocab) + 1"
      ],
      "metadata": {
        "id": "NM6G1ZMoh0Sv"
      },
      "execution_count": 25,
      "outputs": []
    },
    {
      "cell_type": "markdown",
      "source": [
        "### Import Keras Packages"
      ],
      "metadata": {
        "id": "pMmnICbqh7j0"
      }
    },
    {
      "cell_type": "code",
      "source": [
        "%%capture\n",
        "!pip install keras"
      ],
      "metadata": {
        "id": "cDYQkMERiMjr"
      },
      "execution_count": 27,
      "outputs": []
    },
    {
      "cell_type": "code",
      "source": [
        "from keras.preprocessing.sequence import pad_sequences \n",
        "from keras.preprocessing.text import Tokenizer  "
      ],
      "metadata": {
        "id": "LL9W_IyKiAwG"
      },
      "execution_count": 29,
      "outputs": []
    },
    {
      "cell_type": "code",
      "source": [
        "# int-encode sequences of words\n",
        "tokenizer = Tokenizer(filters=[])\n",
        "tokenizer.fit_on_texts(vocab)\n",
        "\n",
        "tokenizer.word_index"
      ],
      "metadata": {
        "colab": {
          "base_uri": "https://localhost:8080/"
        },
        "id": "T8SWb9tQiIo8",
        "outputId": "82269c89-5462-40f1-b694-64676e55c982"
      },
      "execution_count": 30,
      "outputs": [
        {
          "output_type": "execute_result",
          "data": {
            "text/plain": [
              "{'journeyed': 1,\n",
              " 'is': 2,\n",
              " '.': 3,\n",
              " 'discarded': 4,\n",
              " 'football': 5,\n",
              " 'mary': 6,\n",
              " 'to': 7,\n",
              " 'picked': 8,\n",
              " 'milk': 9,\n",
              " 'left': 10,\n",
              " 'got': 11,\n",
              " '?': 12,\n",
              " 'down': 13,\n",
              " 'garden': 14,\n",
              " 'kitchen': 15,\n",
              " 'no': 16,\n",
              " 'apple': 17,\n",
              " 'went': 18,\n",
              " 'travelled': 19,\n",
              " 'grabbed': 20,\n",
              " 'there': 21,\n",
              " 'sandra': 22,\n",
              " 'took': 23,\n",
              " 'hallway': 24,\n",
              " 'in': 25,\n",
              " 'moved': 26,\n",
              " 'put': 27,\n",
              " 'daniel': 28,\n",
              " 'yes': 29,\n",
              " 'back': 30,\n",
              " 'bedroom': 31,\n",
              " 'dropped': 32,\n",
              " 'the': 33,\n",
              " 'bathroom': 34,\n",
              " 'up': 35,\n",
              " 'john': 36,\n",
              " 'office': 37}"
            ]
          },
          "metadata": {},
          "execution_count": 30
        }
      ]
    },
    {
      "cell_type": "code",
      "source": [
        "train_story_text = []\n",
        "train_question_text = []\n",
        "train_answers = []\n",
        "\n",
        "for story, question, answer in train_data:\n",
        "\n",
        "    train_story_text.append(story)\n",
        "    train_question_text.append(question)\n",
        "\n",
        "train_story_seq = tokenizer.texts_to_sequences(train_story_text)\n",
        "\n",
        "print(len(train_story_text))\n",
        "len(train_story_seq)"
      ],
      "metadata": {
        "colab": {
          "base_uri": "https://localhost:8080/"
        },
        "id": "URRqv0TUif63",
        "outputId": "b1518132-6c69-48ad-ee5d-ea6b3397968d"
      },
      "execution_count": 32,
      "outputs": [
        {
          "output_type": "stream",
          "name": "stdout",
          "text": [
            "10000\n"
          ]
        },
        {
          "output_type": "execute_result",
          "data": {
            "text/plain": [
              "10000"
            ]
          },
          "metadata": {},
          "execution_count": 32
        }
      ]
    },
    {
      "cell_type": "markdown",
      "source": [
        "### Functionalize Vectorization Process"
      ],
      "metadata": {
        "id": "4Ius_4Qhi3LZ"
      }
    },
    {
      "cell_type": "code",
      "source": [
        "def vectorize_stories(data, \n",
        "                      word_index=tokenizer.word_index, \n",
        "                      max_story_len=max_story_len, \n",
        "                      max_question_len=max_question_len):\n",
        "    '''\n",
        "    INPUT:\n",
        "\n",
        "    data: consisting of Stories, Queries, and Answers\n",
        "    word_index: word index dictionary from tokenizer\n",
        "    max_story_len: the length of the longest story ( used for pad_sequences function )\n",
        "    max_question_len: length of the longest question ( used for pad_sequences function )\n",
        "\n",
        "    OUTPUT:\n",
        "\n",
        "        Vectorizes the stories, questions, and answers into padded sequences. \n",
        "        First loop for every story,query,answer in the data. Then convert raw words\n",
        "        to a word index value. Then append each set to their appropriate output list.\n",
        "        Once converted --> words to numbers, pad the sequences so they are all of equal length.\n",
        "\n",
        "    Returns: above output explanation in the form of a tuple (X,Xq,Y) (padded based on max lengths)\n",
        "    '''\n",
        "    # X = Stories\n",
        "    X = []\n",
        "    # Xq = Query\n",
        "    Xq = []\n",
        "    # Y = Correct Answer\n",
        "    Y = []\n",
        "\n",
        "    for story, query, answer in data:\n",
        "        \n",
        "        # Grab word index for every word in the story\n",
        "        x = [word_index[word.lower()] for word in story]\n",
        "        # Grab the word index for every word in query\n",
        "        xq = [word_index[word.lower()] for word in query]\n",
        "\n",
        "        # Grab the Answers (either Yes/No so we don't need to use list comprehension here)\n",
        "        # INdex 0 is reserved so we're going to use + 1\n",
        "        y = np.zeros(len(word_index) + 1)\n",
        "\n",
        "        # Now that y is all zeros and it's known it is just Yes/No\n",
        "        ## We can use numpy logic to create this assignment\n",
        "        y[word_index[answer]] = 1\n",
        "\n",
        "        # Append each set of story,query,answer to their respective holding lists\n",
        "        X.append(x)\n",
        "        Xq.append(xq)\n",
        "        Y.append(y)\n",
        "\n",
        "    # Finally, pad the sequences based on their max length so the RNN can be trained\n",
        "    ## on uniformly long sequences. RETURN TUPLE FOR UNPACKING!!!\n",
        "    return (pad_sequences(X, maxlen=max_story_len), \n",
        "            pad_sequences(Xq, maxlen=max_question_len), \n",
        "            np.array(Y))\n",
        "    "
      ],
      "metadata": {
        "id": "fB32EkMQjCrl"
      },
      "execution_count": 34,
      "outputs": []
    },
    {
      "cell_type": "code",
      "source": [
        "inputs_train, queries_train, answers_train = vectorize_stories(train_data)\n",
        "inputs_test, queries_test, answers_test = vectorize_stories(test_data)\n",
        "\n",
        "print(inputs_test)\n",
        "queries_test"
      ],
      "metadata": {
        "colab": {
          "base_uri": "https://localhost:8080/"
        },
        "id": "CGHIs8HMlD4o",
        "outputId": "984bb2bf-b9a8-4247-c04b-a6dc4fe80c5b"
      },
      "execution_count": 35,
      "outputs": [
        {
          "output_type": "stream",
          "name": "stdout",
          "text": [
            "[[ 0  0  0 ... 33 31  3]\n",
            " [ 0  0  0 ... 33 14  3]\n",
            " [ 0  0  0 ... 33 14  3]\n",
            " ...\n",
            " [ 0  0  0 ... 33 17  3]\n",
            " [ 0  0  0 ... 33 14  3]\n",
            " [ 0  0  0 ... 17 21  3]]\n"
          ]
        },
        {
          "output_type": "execute_result",
          "data": {
            "text/plain": [
              "array([[ 2, 36, 25, 33, 15, 12],\n",
              "       [ 2, 36, 25, 33, 15, 12],\n",
              "       [ 2, 36, 25, 33, 14, 12],\n",
              "       ...,\n",
              "       [ 2,  6, 25, 33, 31, 12],\n",
              "       [ 2, 22, 25, 33, 14, 12],\n",
              "       [ 2,  6, 25, 33, 14, 12]], dtype=int32)"
            ]
          },
          "metadata": {},
          "execution_count": 35
        }
      ]
    },
    {
      "cell_type": "code",
      "source": [
        "print(answers_test)\n",
        "print(sum(answers_test))\n",
        "print(tokenizer.word_index['yes'])\n",
        "tokenizer.word_index['no']"
      ],
      "metadata": {
        "colab": {
          "base_uri": "https://localhost:8080/"
        },
        "id": "Pj8CsjmZmVgp",
        "outputId": "6bff3f0b-b84c-4013-f7c5-7fcc90e01f37"
      },
      "execution_count": 36,
      "outputs": [
        {
          "output_type": "stream",
          "name": "stdout",
          "text": [
            "[[0. 0. 0. ... 0. 0. 0.]\n",
            " [0. 0. 0. ... 0. 0. 0.]\n",
            " [0. 0. 0. ... 0. 0. 0.]\n",
            " ...\n",
            " [0. 0. 0. ... 0. 0. 0.]\n",
            " [0. 0. 0. ... 0. 0. 0.]\n",
            " [0. 0. 0. ... 0. 0. 0.]]\n",
            "[  0.   0.   0.   0.   0.   0.   0.   0.   0.   0.   0.   0.   0.   0.\n",
            "   0.   0. 503.   0.   0.   0.   0.   0.   0.   0.   0.   0.   0.   0.\n",
            "   0. 497.   0.   0.   0.   0.   0.   0.   0.   0.]\n",
            "29\n"
          ]
        },
        {
          "output_type": "execute_result",
          "data": {
            "text/plain": [
              "16"
            ]
          },
          "metadata": {},
          "execution_count": 36
        }
      ]
    },
    {
      "cell_type": "markdown",
      "source": [
        "## Creating the Model"
      ],
      "metadata": {
        "id": "0TVBAwjTmgCd"
      }
    },
    {
      "cell_type": "code",
      "source": [
        "# IMPORT RELATIVE PACKAGES\n",
        "from keras.models import Sequential, Model \n",
        "from keras.layers.embeddings import Embedding\n",
        "from keras.layers import Input, Activation, Dense, Permute, Dropout \n",
        "from keras.layers import add, dot, concatenate \n",
        "from keras.layers import LSTM"
      ],
      "metadata": {
        "id": "ucc1fiiamlVm"
      },
      "execution_count": 37,
      "outputs": []
    },
    {
      "cell_type": "markdown",
      "source": [
        "### Placeholders for Inputs\n",
        "\n",
        "Recall we technically have two inputs, stories and questions. So we need to use placeholders. `Input()` is used to instantiate a Keras tensor.\n"
      ],
      "metadata": {
        "id": "lbW0DYNBnp-o"
      }
    },
    {
      "cell_type": "code",
      "source": [
        "input_sequence = Input((max_story_len,))\n",
        "question = Input((max_question_len,))"
      ],
      "metadata": {
        "id": "L7bS23ycnrF4"
      },
      "execution_count": 38,
      "outputs": []
    },
    {
      "cell_type": "markdown",
      "source": [
        "## Encoders\n",
        "\n",
        "### Input Encoder m"
      ],
      "metadata": {
        "id": "-6lz_nwlm4h-"
      }
    },
    {
      "cell_type": "code",
      "source": [
        "# Input gets embedded to a sequence of vectors\n",
        "input_encoder_m = Sequential()\n",
        "input_encoder_m.add(Embedding(input_dim=vocab_size, output_dim=64))\n",
        "input_encoder_m.add(Dropout(0.3))"
      ],
      "metadata": {
        "id": "LWoJkAf0nM3P"
      },
      "execution_count": 39,
      "outputs": []
    },
    {
      "cell_type": "markdown",
      "source": [
        "### Input Encoder c"
      ],
      "metadata": {
        "id": "RcI8na7XoSP-"
      }
    },
    {
      "cell_type": "code",
      "source": [
        "# embed the input into a sequence of vectors of size query_maxlen\n",
        "input_encoder_c = Sequential()\n",
        "input_encoder_c.add(Embedding(input_dim=vocab_size, output_dim=max_question_len))\n",
        "input_encoder_c.add(Dropout(0.3))"
      ],
      "metadata": {
        "id": "XItDJV2ooUt9"
      },
      "execution_count": 40,
      "outputs": []
    },
    {
      "cell_type": "markdown",
      "source": [
        "### Question Encoder"
      ],
      "metadata": {
        "id": "BP0y_HjLolMZ"
      }
    },
    {
      "cell_type": "code",
      "source": [
        "# embed the question into a sequence of vectors\n",
        "question_encoder = Sequential()\n",
        "question_encoder.add(Embedding(input_dim=vocab_size,\n",
        "                               output_dim=64,\n",
        "                               input_length=max_question_len))\n",
        "question_encoder.add(Dropout(0.3))\n"
      ],
      "metadata": {
        "id": "iV1TqSC8opOc"
      },
      "execution_count": 41,
      "outputs": []
    },
    {
      "cell_type": "markdown",
      "source": [
        "### Encode the Sequences"
      ],
      "metadata": {
        "id": "gKji55lRo6ks"
      }
    },
    {
      "cell_type": "code",
      "source": [
        "# encode input sequence and questions ( which are indicies )\n",
        "# to sequences of dense vectors\n",
        "input_encoded_m = input_encoder_m(input_sequence)\n",
        "input_encoded_c = input_encoder_c(input_sequence)\n",
        "question_encoded = question_encoder(question)"
      ],
      "metadata": {
        "id": "_HMxygP0o9_n"
      },
      "execution_count": 42,
      "outputs": []
    },
    {
      "cell_type": "code",
      "source": [
        "# USE DOT PRODUCT TO COMPUTE THE MATCH BETWEEN FIRST INPUT VECTOR AND QUERY\n",
        "match = dot([input_encoded_m, question_encoded], axes=(2, 2))\n",
        "match = Activation(\"softmax\")(match)"
      ],
      "metadata": {
        "id": "EPZXpOy7pYVt"
      },
      "execution_count": 43,
      "outputs": []
    },
    {
      "cell_type": "code",
      "source": [
        "# Add match matrix with the second input vector sequence\n",
        "response = add([match, input_encoded_c])\n",
        "response = Permute((2, 1))(response)"
      ],
      "metadata": {
        "id": "DGB5QOKPprlX"
      },
      "execution_count": 44,
      "outputs": []
    },
    {
      "cell_type": "code",
      "source": [
        "# CONCATENATE\n",
        "answer = concatenate([response, question_encoded])"
      ],
      "metadata": {
        "id": "p-IavOLCqZtU"
      },
      "execution_count": 45,
      "outputs": []
    },
    {
      "cell_type": "code",
      "source": [
        "answer"
      ],
      "metadata": {
        "colab": {
          "base_uri": "https://localhost:8080/"
        },
        "id": "lAM6DfT8qfmq",
        "outputId": "856adb3f-1608-45de-c6fd-aaf07408fd3b"
      },
      "execution_count": 46,
      "outputs": [
        {
          "output_type": "execute_result",
          "data": {
            "text/plain": [
              "<KerasTensor: shape=(None, 6, 220) dtype=float32 (created by layer 'concatenate')>"
            ]
          },
          "metadata": {},
          "execution_count": 46
        }
      ]
    },
    {
      "cell_type": "code",
      "source": [
        "# Reduce with RNN (LSTM)\n",
        "answer = LSTM(32)(answer)"
      ],
      "metadata": {
        "id": "r6SNn9iTqgjJ"
      },
      "execution_count": 47,
      "outputs": []
    },
    {
      "cell_type": "code",
      "source": [
        "answer = Dropout(0.5)(answer)\n",
        "answer = Dense(vocab_size)(answer)"
      ],
      "metadata": {
        "id": "2NrwYmILqoBR"
      },
      "execution_count": 48,
      "outputs": []
    },
    {
      "cell_type": "code",
      "source": [
        "answer = Activation(\"softmax\")(answer)\n",
        "\n",
        "# build final model \n",
        "model = Model([input_sequence, question], answer)\n",
        "model.compile(optimizer=\"rmsprop\", \n",
        "              loss=\"categorical_crossentropy\",\n",
        "              metrics=[\"accuracy\"])"
      ],
      "metadata": {
        "id": "Ytws2pO8qsna"
      },
      "execution_count": 49,
      "outputs": []
    },
    {
      "cell_type": "code",
      "source": [
        "model.summary()"
      ],
      "metadata": {
        "colab": {
          "base_uri": "https://localhost:8080/"
        },
        "id": "yvsTrhOtq9Mq",
        "outputId": "7a140103-216b-404f-f4d2-845245d5b6fa"
      },
      "execution_count": 50,
      "outputs": [
        {
          "output_type": "stream",
          "name": "stdout",
          "text": [
            "Model: \"model\"\n",
            "__________________________________________________________________________________________________\n",
            " Layer (type)                   Output Shape         Param #     Connected to                     \n",
            "==================================================================================================\n",
            " input_1 (InputLayer)           [(None, 156)]        0           []                               \n",
            "                                                                                                  \n",
            " input_2 (InputLayer)           [(None, 6)]          0           []                               \n",
            "                                                                                                  \n",
            " sequential (Sequential)        (None, None, 64)     2432        ['input_1[0][0]']                \n",
            "                                                                                                  \n",
            " sequential_2 (Sequential)      (None, 6, 64)        2432        ['input_2[0][0]']                \n",
            "                                                                                                  \n",
            " dot (Dot)                      (None, 156, 6)       0           ['sequential[0][0]',             \n",
            "                                                                  'sequential_2[0][0]']           \n",
            "                                                                                                  \n",
            " activation (Activation)        (None, 156, 6)       0           ['dot[0][0]']                    \n",
            "                                                                                                  \n",
            " sequential_1 (Sequential)      (None, None, 6)      228         ['input_1[0][0]']                \n",
            "                                                                                                  \n",
            " add (Add)                      (None, 156, 6)       0           ['activation[0][0]',             \n",
            "                                                                  'sequential_1[0][0]']           \n",
            "                                                                                                  \n",
            " permute (Permute)              (None, 6, 156)       0           ['add[0][0]']                    \n",
            "                                                                                                  \n",
            " concatenate (Concatenate)      (None, 6, 220)       0           ['permute[0][0]',                \n",
            "                                                                  'sequential_2[0][0]']           \n",
            "                                                                                                  \n",
            " lstm (LSTM)                    (None, 32)           32384       ['concatenate[0][0]']            \n",
            "                                                                                                  \n",
            " dropout_3 (Dropout)            (None, 32)           0           ['lstm[0][0]']                   \n",
            "                                                                                                  \n",
            " dense (Dense)                  (None, 38)           1254        ['dropout_3[0][0]']              \n",
            "                                                                                                  \n",
            " activation_1 (Activation)      (None, 38)           0           ['dense[0][0]']                  \n",
            "                                                                                                  \n",
            "==================================================================================================\n",
            "Total params: 38,730\n",
            "Trainable params: 38,730\n",
            "Non-trainable params: 0\n",
            "__________________________________________________________________________________________________\n"
          ]
        }
      ]
    },
    {
      "cell_type": "code",
      "source": [
        "# TRAIN\n",
        "history = model.fit([inputs_train, queries_train],\n",
        "                    answers_train,\n",
        "                    batch_size=32,\n",
        "                    epochs=120,\n",
        "                    validation_data=([inputs_test, queries_test],\n",
        "                                     answers_test))"
      ],
      "metadata": {
        "colab": {
          "base_uri": "https://localhost:8080/"
        },
        "id": "ogsdRlJBq-AN",
        "outputId": "3abb1eae-7e46-4c09-b4aa-d60c74e95e35"
      },
      "execution_count": 51,
      "outputs": [
        {
          "output_type": "stream",
          "name": "stdout",
          "text": [
            "Epoch 1/120\n",
            "313/313 [==============================] - 9s 18ms/step - loss: 0.9103 - accuracy: 0.4932 - val_loss: 0.6941 - val_accuracy: 0.5030\n",
            "Epoch 2/120\n",
            "313/313 [==============================] - 5s 16ms/step - loss: 0.7030 - accuracy: 0.4979 - val_loss: 0.6933 - val_accuracy: 0.4970\n",
            "Epoch 3/120\n",
            "313/313 [==============================] - 5s 17ms/step - loss: 0.6961 - accuracy: 0.4995 - val_loss: 0.6933 - val_accuracy: 0.5030\n",
            "Epoch 4/120\n",
            "313/313 [==============================] - 5s 17ms/step - loss: 0.6946 - accuracy: 0.4972 - val_loss: 0.6947 - val_accuracy: 0.4970\n",
            "Epoch 5/120\n",
            "313/313 [==============================] - 5s 16ms/step - loss: 0.6952 - accuracy: 0.4928 - val_loss: 0.6932 - val_accuracy: 0.4750\n",
            "Epoch 6/120\n",
            "313/313 [==============================] - 5s 16ms/step - loss: 0.6943 - accuracy: 0.5052 - val_loss: 0.6932 - val_accuracy: 0.4960\n",
            "Epoch 7/120\n",
            "313/313 [==============================] - 5s 16ms/step - loss: 0.6947 - accuracy: 0.4985 - val_loss: 0.6933 - val_accuracy: 0.4980\n",
            "Epoch 8/120\n",
            "313/313 [==============================] - 5s 16ms/step - loss: 0.6948 - accuracy: 0.4957 - val_loss: 0.6938 - val_accuracy: 0.5030\n",
            "Epoch 9/120\n",
            "313/313 [==============================] - 5s 16ms/step - loss: 0.6939 - accuracy: 0.5049 - val_loss: 0.6948 - val_accuracy: 0.4860\n",
            "Epoch 10/120\n",
            "313/313 [==============================] - 5s 16ms/step - loss: 0.6935 - accuracy: 0.5097 - val_loss: 0.6950 - val_accuracy: 0.4840\n",
            "Epoch 11/120\n",
            "313/313 [==============================] - 5s 17ms/step - loss: 0.6870 - accuracy: 0.5296 - val_loss: 0.6850 - val_accuracy: 0.5240\n",
            "Epoch 12/120\n",
            "313/313 [==============================] - 5s 16ms/step - loss: 0.6676 - accuracy: 0.5726 - val_loss: 0.6595 - val_accuracy: 0.5720\n",
            "Epoch 13/120\n",
            "313/313 [==============================] - 5s 16ms/step - loss: 0.6546 - accuracy: 0.6068 - val_loss: 0.6455 - val_accuracy: 0.6620\n",
            "Epoch 14/120\n",
            "313/313 [==============================] - 5s 16ms/step - loss: 0.6380 - accuracy: 0.6424 - val_loss: 0.6238 - val_accuracy: 0.6560\n",
            "Epoch 15/120\n",
            "313/313 [==============================] - 5s 16ms/step - loss: 0.6272 - accuracy: 0.6520 - val_loss: 0.6208 - val_accuracy: 0.6720\n",
            "Epoch 16/120\n",
            "313/313 [==============================] - 5s 16ms/step - loss: 0.6233 - accuracy: 0.6568 - val_loss: 0.6134 - val_accuracy: 0.6730\n",
            "Epoch 17/120\n",
            "313/313 [==============================] - 5s 16ms/step - loss: 0.6202 - accuracy: 0.6579 - val_loss: 0.6128 - val_accuracy: 0.6630\n",
            "Epoch 18/120\n",
            "313/313 [==============================] - 5s 16ms/step - loss: 0.6125 - accuracy: 0.6675 - val_loss: 0.6095 - val_accuracy: 0.6710\n",
            "Epoch 19/120\n",
            "313/313 [==============================] - 5s 16ms/step - loss: 0.6087 - accuracy: 0.6678 - val_loss: 0.6038 - val_accuracy: 0.6740\n",
            "Epoch 20/120\n",
            "313/313 [==============================] - 5s 16ms/step - loss: 0.6027 - accuracy: 0.6748 - val_loss: 0.6007 - val_accuracy: 0.6700\n",
            "Epoch 21/120\n",
            "313/313 [==============================] - 5s 16ms/step - loss: 0.5958 - accuracy: 0.6811 - val_loss: 0.5910 - val_accuracy: 0.6830\n",
            "Epoch 22/120\n",
            "313/313 [==============================] - 5s 16ms/step - loss: 0.5934 - accuracy: 0.6911 - val_loss: 0.5887 - val_accuracy: 0.6890\n",
            "Epoch 23/120\n",
            "313/313 [==============================] - 5s 16ms/step - loss: 0.5822 - accuracy: 0.6986 - val_loss: 0.5757 - val_accuracy: 0.6950\n",
            "Epoch 24/120\n",
            "313/313 [==============================] - 5s 16ms/step - loss: 0.5714 - accuracy: 0.7069 - val_loss: 0.5700 - val_accuracy: 0.7070\n",
            "Epoch 25/120\n",
            "313/313 [==============================] - 5s 17ms/step - loss: 0.5636 - accuracy: 0.7087 - val_loss: 0.5624 - val_accuracy: 0.7090\n",
            "Epoch 26/120\n",
            "313/313 [==============================] - 5s 17ms/step - loss: 0.5465 - accuracy: 0.7204 - val_loss: 0.5463 - val_accuracy: 0.7130\n",
            "Epoch 27/120\n",
            "313/313 [==============================] - 7s 21ms/step - loss: 0.5376 - accuracy: 0.7292 - val_loss: 0.5289 - val_accuracy: 0.7280\n",
            "Epoch 28/120\n",
            "313/313 [==============================] - 5s 16ms/step - loss: 0.5220 - accuracy: 0.7388 - val_loss: 0.5201 - val_accuracy: 0.7320\n",
            "Epoch 29/120\n",
            "313/313 [==============================] - 5s 16ms/step - loss: 0.5092 - accuracy: 0.7463 - val_loss: 0.5130 - val_accuracy: 0.7360\n",
            "Epoch 30/120\n",
            "313/313 [==============================] - 5s 16ms/step - loss: 0.4992 - accuracy: 0.7527 - val_loss: 0.5208 - val_accuracy: 0.7310\n",
            "Epoch 31/120\n",
            "313/313 [==============================] - 5s 17ms/step - loss: 0.4912 - accuracy: 0.7566 - val_loss: 0.5367 - val_accuracy: 0.7180\n",
            "Epoch 32/120\n",
            "313/313 [==============================] - 5s 17ms/step - loss: 0.4832 - accuracy: 0.7610 - val_loss: 0.5211 - val_accuracy: 0.7410\n",
            "Epoch 33/120\n",
            "313/313 [==============================] - 5s 17ms/step - loss: 0.4757 - accuracy: 0.7705 - val_loss: 0.5032 - val_accuracy: 0.7420\n",
            "Epoch 34/120\n",
            "313/313 [==============================] - 5s 16ms/step - loss: 0.4642 - accuracy: 0.7718 - val_loss: 0.4986 - val_accuracy: 0.7470\n",
            "Epoch 35/120\n",
            "313/313 [==============================] - 5s 16ms/step - loss: 0.4549 - accuracy: 0.7783 - val_loss: 0.4676 - val_accuracy: 0.7780\n",
            "Epoch 36/120\n",
            "313/313 [==============================] - 5s 16ms/step - loss: 0.4498 - accuracy: 0.7844 - val_loss: 0.4690 - val_accuracy: 0.7880\n",
            "Epoch 37/120\n",
            "313/313 [==============================] - 5s 16ms/step - loss: 0.4390 - accuracy: 0.7921 - val_loss: 0.4585 - val_accuracy: 0.7940\n",
            "Epoch 38/120\n",
            "313/313 [==============================] - 5s 16ms/step - loss: 0.4275 - accuracy: 0.7974 - val_loss: 0.4559 - val_accuracy: 0.7850\n",
            "Epoch 39/120\n",
            "313/313 [==============================] - 5s 16ms/step - loss: 0.4243 - accuracy: 0.8007 - val_loss: 0.4568 - val_accuracy: 0.7890\n",
            "Epoch 40/120\n",
            "313/313 [==============================] - 5s 16ms/step - loss: 0.4207 - accuracy: 0.8036 - val_loss: 0.4751 - val_accuracy: 0.7850\n",
            "Epoch 41/120\n",
            "313/313 [==============================] - 5s 16ms/step - loss: 0.4179 - accuracy: 0.8070 - val_loss: 0.4447 - val_accuracy: 0.7950\n",
            "Epoch 42/120\n",
            "313/313 [==============================] - 5s 16ms/step - loss: 0.4134 - accuracy: 0.8139 - val_loss: 0.5072 - val_accuracy: 0.7860\n",
            "Epoch 43/120\n",
            "313/313 [==============================] - 5s 16ms/step - loss: 0.4111 - accuracy: 0.8137 - val_loss: 0.4385 - val_accuracy: 0.7960\n",
            "Epoch 44/120\n",
            "313/313 [==============================] - 5s 16ms/step - loss: 0.4016 - accuracy: 0.8192 - val_loss: 0.4513 - val_accuracy: 0.7890\n",
            "Epoch 45/120\n",
            "313/313 [==============================] - 5s 16ms/step - loss: 0.4028 - accuracy: 0.8152 - val_loss: 0.4428 - val_accuracy: 0.8100\n",
            "Epoch 46/120\n",
            "313/313 [==============================] - 5s 16ms/step - loss: 0.3969 - accuracy: 0.8183 - val_loss: 0.4457 - val_accuracy: 0.7980\n",
            "Epoch 47/120\n",
            "313/313 [==============================] - 5s 17ms/step - loss: 0.3938 - accuracy: 0.8223 - val_loss: 0.4343 - val_accuracy: 0.8090\n",
            "Epoch 48/120\n",
            "313/313 [==============================] - 5s 17ms/step - loss: 0.3882 - accuracy: 0.8250 - val_loss: 0.4408 - val_accuracy: 0.8090\n",
            "Epoch 49/120\n",
            "313/313 [==============================] - 5s 17ms/step - loss: 0.3866 - accuracy: 0.8286 - val_loss: 0.4135 - val_accuracy: 0.8130\n",
            "Epoch 50/120\n",
            "313/313 [==============================] - 5s 17ms/step - loss: 0.3787 - accuracy: 0.8294 - val_loss: 0.4338 - val_accuracy: 0.8140\n",
            "Epoch 51/120\n",
            "313/313 [==============================] - 5s 17ms/step - loss: 0.3747 - accuracy: 0.8331 - val_loss: 0.4233 - val_accuracy: 0.8100\n",
            "Epoch 52/120\n",
            "313/313 [==============================] - 5s 16ms/step - loss: 0.3713 - accuracy: 0.8322 - val_loss: 0.4049 - val_accuracy: 0.8160\n",
            "Epoch 53/120\n",
            "313/313 [==============================] - 5s 16ms/step - loss: 0.3732 - accuracy: 0.8354 - val_loss: 0.4361 - val_accuracy: 0.8130\n",
            "Epoch 54/120\n",
            "313/313 [==============================] - 6s 18ms/step - loss: 0.3721 - accuracy: 0.8354 - val_loss: 0.4222 - val_accuracy: 0.8090\n",
            "Epoch 55/120\n",
            "313/313 [==============================] - 6s 19ms/step - loss: 0.3621 - accuracy: 0.8393 - val_loss: 0.3936 - val_accuracy: 0.8200\n",
            "Epoch 56/120\n",
            "313/313 [==============================] - 5s 16ms/step - loss: 0.3610 - accuracy: 0.8405 - val_loss: 0.4051 - val_accuracy: 0.8260\n",
            "Epoch 57/120\n",
            "313/313 [==============================] - 5s 17ms/step - loss: 0.3568 - accuracy: 0.8430 - val_loss: 0.4112 - val_accuracy: 0.8200\n",
            "Epoch 58/120\n",
            "313/313 [==============================] - 5s 16ms/step - loss: 0.3536 - accuracy: 0.8415 - val_loss: 0.3968 - val_accuracy: 0.8270\n",
            "Epoch 59/120\n",
            "313/313 [==============================] - 5s 16ms/step - loss: 0.3544 - accuracy: 0.8426 - val_loss: 0.4114 - val_accuracy: 0.8140\n",
            "Epoch 60/120\n",
            "313/313 [==============================] - 5s 16ms/step - loss: 0.3462 - accuracy: 0.8487 - val_loss: 0.4072 - val_accuracy: 0.8190\n",
            "Epoch 61/120\n",
            "313/313 [==============================] - 5s 16ms/step - loss: 0.3443 - accuracy: 0.8463 - val_loss: 0.4004 - val_accuracy: 0.8150\n",
            "Epoch 62/120\n",
            "313/313 [==============================] - 5s 16ms/step - loss: 0.3462 - accuracy: 0.8472 - val_loss: 0.4063 - val_accuracy: 0.8240\n",
            "Epoch 63/120\n",
            "313/313 [==============================] - 5s 16ms/step - loss: 0.3418 - accuracy: 0.8530 - val_loss: 0.4056 - val_accuracy: 0.8190\n",
            "Epoch 64/120\n",
            "313/313 [==============================] - 5s 16ms/step - loss: 0.3405 - accuracy: 0.8493 - val_loss: 0.4046 - val_accuracy: 0.8150\n",
            "Epoch 65/120\n",
            "313/313 [==============================] - 5s 16ms/step - loss: 0.3342 - accuracy: 0.8489 - val_loss: 0.4129 - val_accuracy: 0.8300\n",
            "Epoch 66/120\n",
            "313/313 [==============================] - 5s 16ms/step - loss: 0.3351 - accuracy: 0.8528 - val_loss: 0.4000 - val_accuracy: 0.8160\n",
            "Epoch 67/120\n",
            "313/313 [==============================] - 5s 16ms/step - loss: 0.3321 - accuracy: 0.8553 - val_loss: 0.3995 - val_accuracy: 0.8190\n",
            "Epoch 68/120\n",
            "313/313 [==============================] - 5s 17ms/step - loss: 0.3287 - accuracy: 0.8576 - val_loss: 0.4006 - val_accuracy: 0.8170\n",
            "Epoch 69/120\n",
            "313/313 [==============================] - 5s 16ms/step - loss: 0.3346 - accuracy: 0.8583 - val_loss: 0.4913 - val_accuracy: 0.8070\n",
            "Epoch 70/120\n",
            "313/313 [==============================] - 5s 16ms/step - loss: 0.3247 - accuracy: 0.8627 - val_loss: 0.4727 - val_accuracy: 0.8190\n",
            "Epoch 71/120\n",
            "313/313 [==============================] - 5s 16ms/step - loss: 0.3255 - accuracy: 0.8595 - val_loss: 0.4067 - val_accuracy: 0.8200\n",
            "Epoch 72/120\n",
            "313/313 [==============================] - 5s 16ms/step - loss: 0.3237 - accuracy: 0.8589 - val_loss: 0.3999 - val_accuracy: 0.8290\n",
            "Epoch 73/120\n",
            "313/313 [==============================] - 5s 16ms/step - loss: 0.3216 - accuracy: 0.8611 - val_loss: 0.4246 - val_accuracy: 0.8190\n",
            "Epoch 74/120\n",
            "313/313 [==============================] - 5s 17ms/step - loss: 0.3182 - accuracy: 0.8635 - val_loss: 0.4262 - val_accuracy: 0.8270\n",
            "Epoch 75/120\n",
            "313/313 [==============================] - 5s 16ms/step - loss: 0.3139 - accuracy: 0.8637 - val_loss: 0.4258 - val_accuracy: 0.8250\n",
            "Epoch 76/120\n",
            "313/313 [==============================] - 5s 16ms/step - loss: 0.3159 - accuracy: 0.8597 - val_loss: 0.4215 - val_accuracy: 0.8210\n",
            "Epoch 77/120\n",
            "313/313 [==============================] - 5s 16ms/step - loss: 0.3199 - accuracy: 0.8622 - val_loss: 0.4186 - val_accuracy: 0.8280\n",
            "Epoch 78/120\n",
            "313/313 [==============================] - 5s 17ms/step - loss: 0.3155 - accuracy: 0.8645 - val_loss: 0.4413 - val_accuracy: 0.8230\n",
            "Epoch 79/120\n",
            "313/313 [==============================] - 5s 17ms/step - loss: 0.3069 - accuracy: 0.8695 - val_loss: 0.4298 - val_accuracy: 0.8220\n",
            "Epoch 80/120\n",
            "313/313 [==============================] - 5s 17ms/step - loss: 0.3070 - accuracy: 0.8662 - val_loss: 0.4397 - val_accuracy: 0.8230\n",
            "Epoch 81/120\n",
            "313/313 [==============================] - 6s 19ms/step - loss: 0.3047 - accuracy: 0.8684 - val_loss: 0.4111 - val_accuracy: 0.8250\n",
            "Epoch 82/120\n",
            "313/313 [==============================] - 6s 19ms/step - loss: 0.3036 - accuracy: 0.8683 - val_loss: 0.4486 - val_accuracy: 0.8200\n",
            "Epoch 83/120\n",
            "313/313 [==============================] - 5s 17ms/step - loss: 0.3046 - accuracy: 0.8685 - val_loss: 0.4362 - val_accuracy: 0.8210\n",
            "Epoch 84/120\n",
            "313/313 [==============================] - 5s 17ms/step - loss: 0.3019 - accuracy: 0.8688 - val_loss: 0.4474 - val_accuracy: 0.8180\n",
            "Epoch 85/120\n",
            "313/313 [==============================] - 5s 17ms/step - loss: 0.2991 - accuracy: 0.8695 - val_loss: 0.4241 - val_accuracy: 0.8290\n",
            "Epoch 86/120\n",
            "313/313 [==============================] - 5s 17ms/step - loss: 0.2927 - accuracy: 0.8713 - val_loss: 0.4650 - val_accuracy: 0.8100\n",
            "Epoch 87/120\n",
            "313/313 [==============================] - 5s 17ms/step - loss: 0.2992 - accuracy: 0.8707 - val_loss: 0.4298 - val_accuracy: 0.8220\n",
            "Epoch 88/120\n",
            "313/313 [==============================] - 5s 17ms/step - loss: 0.2984 - accuracy: 0.8741 - val_loss: 0.4331 - val_accuracy: 0.8250\n",
            "Epoch 89/120\n",
            "313/313 [==============================] - 5s 17ms/step - loss: 0.2975 - accuracy: 0.8726 - val_loss: 0.4223 - val_accuracy: 0.8270\n",
            "Epoch 90/120\n",
            "313/313 [==============================] - 5s 17ms/step - loss: 0.3011 - accuracy: 0.8686 - val_loss: 0.4467 - val_accuracy: 0.8200\n",
            "Epoch 91/120\n",
            "313/313 [==============================] - 5s 16ms/step - loss: 0.2920 - accuracy: 0.8742 - val_loss: 0.4343 - val_accuracy: 0.8320\n",
            "Epoch 92/120\n",
            "313/313 [==============================] - 5s 17ms/step - loss: 0.2827 - accuracy: 0.8775 - val_loss: 0.4491 - val_accuracy: 0.8270\n",
            "Epoch 93/120\n",
            "313/313 [==============================] - 5s 17ms/step - loss: 0.2898 - accuracy: 0.8755 - val_loss: 0.4305 - val_accuracy: 0.8320\n",
            "Epoch 94/120\n",
            "313/313 [==============================] - 5s 17ms/step - loss: 0.2819 - accuracy: 0.8822 - val_loss: 0.4472 - val_accuracy: 0.8130\n",
            "Epoch 95/120\n",
            "313/313 [==============================] - 5s 16ms/step - loss: 0.2806 - accuracy: 0.8807 - val_loss: 0.4406 - val_accuracy: 0.8270\n",
            "Epoch 96/120\n",
            "313/313 [==============================] - 5s 17ms/step - loss: 0.2831 - accuracy: 0.8821 - val_loss: 0.4843 - val_accuracy: 0.8280\n",
            "Epoch 97/120\n",
            "313/313 [==============================] - 5s 16ms/step - loss: 0.2814 - accuracy: 0.8787 - val_loss: 0.4686 - val_accuracy: 0.8180\n",
            "Epoch 98/120\n",
            "313/313 [==============================] - 5s 16ms/step - loss: 0.2742 - accuracy: 0.8832 - val_loss: 0.5134 - val_accuracy: 0.8190\n",
            "Epoch 99/120\n",
            "313/313 [==============================] - 5s 16ms/step - loss: 0.2738 - accuracy: 0.8784 - val_loss: 0.4557 - val_accuracy: 0.8250\n",
            "Epoch 100/120\n",
            "313/313 [==============================] - 5s 17ms/step - loss: 0.2866 - accuracy: 0.8798 - val_loss: 0.4681 - val_accuracy: 0.8110\n",
            "Epoch 101/120\n",
            "313/313 [==============================] - 5s 16ms/step - loss: 0.2780 - accuracy: 0.8808 - val_loss: 0.4386 - val_accuracy: 0.8220\n",
            "Epoch 102/120\n",
            "313/313 [==============================] - 5s 16ms/step - loss: 0.2774 - accuracy: 0.8807 - val_loss: 0.4817 - val_accuracy: 0.8190\n",
            "Epoch 103/120\n",
            "313/313 [==============================] - 5s 16ms/step - loss: 0.2813 - accuracy: 0.8795 - val_loss: 0.4791 - val_accuracy: 0.8160\n",
            "Epoch 104/120\n",
            "313/313 [==============================] - 5s 16ms/step - loss: 0.2690 - accuracy: 0.8849 - val_loss: 0.4732 - val_accuracy: 0.8240\n",
            "Epoch 105/120\n",
            "313/313 [==============================] - 5s 17ms/step - loss: 0.2788 - accuracy: 0.8817 - val_loss: 0.4709 - val_accuracy: 0.8200\n",
            "Epoch 106/120\n",
            "313/313 [==============================] - 5s 16ms/step - loss: 0.2674 - accuracy: 0.8871 - val_loss: 0.4884 - val_accuracy: 0.8100\n",
            "Epoch 107/120\n",
            "313/313 [==============================] - 5s 17ms/step - loss: 0.2691 - accuracy: 0.8885 - val_loss: 0.4774 - val_accuracy: 0.8200\n",
            "Epoch 108/120\n",
            "313/313 [==============================] - 6s 19ms/step - loss: 0.2712 - accuracy: 0.8824 - val_loss: 0.4770 - val_accuracy: 0.8250\n",
            "Epoch 109/120\n",
            "313/313 [==============================] - 6s 19ms/step - loss: 0.2611 - accuracy: 0.8885 - val_loss: 0.4732 - val_accuracy: 0.8260\n",
            "Epoch 110/120\n",
            "313/313 [==============================] - 5s 17ms/step - loss: 0.2678 - accuracy: 0.8888 - val_loss: 0.4894 - val_accuracy: 0.8180\n",
            "Epoch 111/120\n",
            "313/313 [==============================] - 5s 16ms/step - loss: 0.2703 - accuracy: 0.8865 - val_loss: 0.4911 - val_accuracy: 0.8220\n",
            "Epoch 112/120\n",
            "313/313 [==============================] - 5s 16ms/step - loss: 0.2633 - accuracy: 0.8912 - val_loss: 0.5047 - val_accuracy: 0.8120\n",
            "Epoch 113/120\n",
            "313/313 [==============================] - 5s 17ms/step - loss: 0.2626 - accuracy: 0.8875 - val_loss: 0.5266 - val_accuracy: 0.8080\n",
            "Epoch 114/120\n",
            "313/313 [==============================] - 5s 17ms/step - loss: 0.2617 - accuracy: 0.8887 - val_loss: 0.5066 - val_accuracy: 0.8170\n",
            "Epoch 115/120\n",
            "313/313 [==============================] - 5s 17ms/step - loss: 0.2667 - accuracy: 0.8841 - val_loss: 0.4851 - val_accuracy: 0.8160\n",
            "Epoch 116/120\n",
            "313/313 [==============================] - 5s 17ms/step - loss: 0.2566 - accuracy: 0.8920 - val_loss: 0.5064 - val_accuracy: 0.8230\n",
            "Epoch 117/120\n",
            "313/313 [==============================] - 5s 17ms/step - loss: 0.2654 - accuracy: 0.8897 - val_loss: 0.5022 - val_accuracy: 0.8180\n",
            "Epoch 118/120\n",
            "313/313 [==============================] - 5s 17ms/step - loss: 0.2570 - accuracy: 0.8899 - val_loss: 0.5055 - val_accuracy: 0.8280\n",
            "Epoch 119/120\n",
            "313/313 [==============================] - 5s 17ms/step - loss: 0.2622 - accuracy: 0.8914 - val_loss: 0.5146 - val_accuracy: 0.8310\n",
            "Epoch 120/120\n",
            "313/313 [==============================] - 5s 17ms/step - loss: 0.2536 - accuracy: 0.8941 - val_loss: 0.5180 - val_accuracy: 0.8070\n"
          ]
        }
      ]
    },
    {
      "cell_type": "markdown",
      "source": [
        "### Save Model"
      ],
      "metadata": {
        "id": "C7nd1vlMrVKO"
      }
    },
    {
      "cell_type": "code",
      "source": [
        "filename = \"chatteral_thinking_120_epochs.h5\"\n",
        "model.save(filename)"
      ],
      "metadata": {
        "id": "bBdfrwoKrjC9"
      },
      "execution_count": 52,
      "outputs": []
    },
    {
      "cell_type": "markdown",
      "source": [
        "## Evaluating Model\n",
        "\n",
        "### Plotting Training History"
      ],
      "metadata": {
        "id": "eKPih0SursnK"
      }
    },
    {
      "cell_type": "code",
      "source": [
        "import matplotlib.pyplot as plt\n",
        "%matplotlib inline\n",
        "\n",
        "print(history.history.keys())\n",
        "\n",
        "plt.plot(history.history['accuracy'])\n",
        "plt.plot(history.history['val_accuracy'])\n",
        "plt.title('model accuracy')\n",
        "plt.ylabel('accuracy')\n",
        "plt.xlabel('epoch')\n",
        "plt.legend(['train', 'test'], loc='upper left')\n",
        "plt.show();"
      ],
      "metadata": {
        "colab": {
          "base_uri": "https://localhost:8080/",
          "height": 312
        },
        "id": "TgeNEuj-r0bb",
        "outputId": "749f632f-c0d2-46ca-8d17-e7e5b9e76061"
      },
      "execution_count": 57,
      "outputs": [
        {
          "output_type": "stream",
          "name": "stdout",
          "text": [
            "dict_keys(['loss', 'accuracy', 'val_loss', 'val_accuracy'])\n"
          ]
        },
        {
          "output_type": "display_data",
          "data": {
            "text/plain": [
              "<Figure size 432x288 with 1 Axes>"
            ],
            "image/png": "[encoded data removed]"
          },
          "metadata": {
            "needs_background": "light"
          }
        }
      ]
    },
    {
      "cell_type": "markdown",
      "source": [
        "### Evaluation on Given Test Set"
      ],
      "metadata": {
        "id": "JDOeLsBdsQsw"
      }
    },
    {
      "cell_type": "code",
      "source": [
        "model.load_weights(filename)\n",
        "pred_results = model.predict(([inputs_test, queries_test]))\n",
        "\n",
        "test_data[0][0]"
      ],
      "metadata": {
        "colab": {
          "base_uri": "https://localhost:8080/"
        },
        "id": "4FvFyHzjsf3Q",
        "outputId": "f02dd893-d65f-480b-9ade-89b1e655a92f"
      },
      "execution_count": 58,
      "outputs": [
        {
          "output_type": "execute_result",
          "data": {
            "text/plain": [
              "['Mary',\n",
              " 'got',\n",
              " 'the',\n",
              " 'milk',\n",
              " 'there',\n",
              " '.',\n",
              " 'John',\n",
              " 'moved',\n",
              " 'to',\n",
              " 'the',\n",
              " 'bedroom',\n",
              " '.']"
            ]
          },
          "metadata": {},
          "execution_count": 58
        }
      ]
    },
    {
      "cell_type": "code",
      "source": [
        "story = ' '.join(word for word in test_data[0][0])\n",
        "print(story)"
      ],
      "metadata": {
        "colab": {
          "base_uri": "https://localhost:8080/"
        },
        "id": "lKsoLuDisnrL",
        "outputId": "ee2bd0ce-d09d-430a-b416-40acc740fe24"
      },
      "execution_count": 59,
      "outputs": [
        {
          "output_type": "stream",
          "name": "stdout",
          "text": [
            "Mary got the milk there . John moved to the bedroom .\n"
          ]
        }
      ]
    },
    {
      "cell_type": "code",
      "source": [
        "query = ' '.join(word for word in test_data[0][1])\n",
        "print(query)"
      ],
      "metadata": {
        "colab": {
          "base_uri": "https://localhost:8080/"
        },
        "id": "QMXI1sxJsscZ",
        "outputId": "e6a86a48-aac3-48cf-dc6f-2d62477047e6"
      },
      "execution_count": 60,
      "outputs": [
        {
          "output_type": "stream",
          "name": "stdout",
          "text": [
            "Is John in the kitchen ?\n"
          ]
        }
      ]
    },
    {
      "cell_type": "code",
      "source": [
        "print(\"True Test Answer from Data is: \", test_data[0][2])"
      ],
      "metadata": {
        "colab": {
          "base_uri": "https://localhost:8080/"
        },
        "id": "Lnf6jEE-sxr-",
        "outputId": "2d3ff503-bb3a-49db-9784-48ff6383f274"
      },
      "execution_count": 61,
      "outputs": [
        {
          "output_type": "stream",
          "name": "stdout",
          "text": [
            "True Test Answer from Data is:  no\n"
          ]
        }
      ]
    },
    {
      "cell_type": "code",
      "source": [
        "# Generate prediction from model\n",
        "val_max = np.argmax(pred_results[0])\n",
        "\n",
        "for key, val in tokenizer.word_index.items():\n",
        "    if val == val_max:\n",
        "        k = key\n",
        "\n",
        "print(\"Predicted answer is: \", k)\n",
        "print(\"Probability of certainty was: \", pred_results[0][val_max])"
      ],
      "metadata": {
        "colab": {
          "base_uri": "https://localhost:8080/"
        },
        "id": "F883rA08s2ue",
        "outputId": "d12ac673-562d-4331-f6a9-5c4841165e9f"
      },
      "execution_count": 62,
      "outputs": [
        {
          "output_type": "stream",
          "name": "stdout",
          "text": [
            "Predicted answer is:  no\n",
            "Probability of certainty was:  0.97968125\n"
          ]
        }
      ]
    },
    {
      "cell_type": "code",
      "source": [
        "## test run "
      ],
      "metadata": {
        "id": "ewmFv-zxtM85"
      },
      "execution_count": 63,
      "outputs": []
    },
    {
      "cell_type": "code",
      "source": [
        "vocab"
      ],
      "metadata": {
        "colab": {
          "base_uri": "https://localhost:8080/"
        },
        "id": "aZXvWwSntT9h",
        "outputId": "340df98a-77d8-4fe1-f6c2-bf3c9e6e6c58"
      },
      "execution_count": 64,
      "outputs": [
        {
          "output_type": "execute_result",
          "data": {
            "text/plain": [
              "{'.',\n",
              " '?',\n",
              " 'Daniel',\n",
              " 'Is',\n",
              " 'John',\n",
              " 'Mary',\n",
              " 'Sandra',\n",
              " 'apple',\n",
              " 'back',\n",
              " 'bathroom',\n",
              " 'bedroom',\n",
              " 'discarded',\n",
              " 'down',\n",
              " 'dropped',\n",
              " 'football',\n",
              " 'garden',\n",
              " 'got',\n",
              " 'grabbed',\n",
              " 'hallway',\n",
              " 'in',\n",
              " 'journeyed',\n",
              " 'kitchen',\n",
              " 'left',\n",
              " 'milk',\n",
              " 'moved',\n",
              " 'no',\n",
              " 'office',\n",
              " 'picked',\n",
              " 'put',\n",
              " 'the',\n",
              " 'there',\n",
              " 'to',\n",
              " 'took',\n",
              " 'travelled',\n",
              " 'up',\n",
              " 'went',\n",
              " 'yes'}"
            ]
          },
          "metadata": {},
          "execution_count": 64
        }
      ]
    },
    {
      "cell_type": "code",
      "source": [
        "my_story = \"John left the kitchen . Sandra dropped the football in the garden .\"\n",
        "my_story.split()"
      ],
      "metadata": {
        "colab": {
          "base_uri": "https://localhost:8080/"
        },
        "id": "fbstnDZZtU6B",
        "outputId": "54fcb759-2bbc-429a-a257-8a80936bfe76"
      },
      "execution_count": 65,
      "outputs": [
        {
          "output_type": "execute_result",
          "data": {
            "text/plain": [
              "['John',\n",
              " 'left',\n",
              " 'the',\n",
              " 'kitchen',\n",
              " '.',\n",
              " 'Sandra',\n",
              " 'dropped',\n",
              " 'the',\n",
              " 'football',\n",
              " 'in',\n",
              " 'the',\n",
              " 'garden',\n",
              " '.']"
            ]
          },
          "metadata": {},
          "execution_count": 65
        }
      ]
    },
    {
      "cell_type": "code",
      "source": [
        "my_question = \"Is the football in the garden ?\""
      ],
      "metadata": {
        "id": "CKqjmmpMteJh"
      },
      "execution_count": 66,
      "outputs": []
    },
    {
      "cell_type": "code",
      "source": [
        "my_question.split()"
      ],
      "metadata": {
        "colab": {
          "base_uri": "https://localhost:8080/"
        },
        "id": "90TZqmI6tiSb",
        "outputId": "dc34696a-5d41-4fd6-e5c5-6d0d2260c4ea"
      },
      "execution_count": 67,
      "outputs": [
        {
          "output_type": "execute_result",
          "data": {
            "text/plain": [
              "['Is', 'the', 'football', 'in', 'the', 'garden', '?']"
            ]
          },
          "metadata": {},
          "execution_count": 67
        }
      ]
    },
    {
      "cell_type": "code",
      "source": [
        "mydata = [(my_story.split(), my_question.split(), 'yes')]"
      ],
      "metadata": {
        "id": "ZFfwluSCtkBw"
      },
      "execution_count": 68,
      "outputs": []
    },
    {
      "cell_type": "code",
      "source": [
        "my_story, my_ques,my_ans = vectorize_stories(mydata)"
      ],
      "metadata": {
        "id": "Tc94aROztor3"
      },
      "execution_count": 69,
      "outputs": []
    },
    {
      "cell_type": "code",
      "source": [
        "pred_results = model.predict(([my_story, my_ques]))"
      ],
      "metadata": {
        "id": "ASZDabYItuFE"
      },
      "execution_count": 70,
      "outputs": []
    },
    {
      "cell_type": "code",
      "source": [
        "#### GENERATE FINAL PREDICTION FROM MODEL\n",
        "val_max = np.argmax(pred_results[0])\n",
        "\n",
        "for key, val in tokenizer.word_index.items():\n",
        "    if val == val_max:\n",
        "        k = key \n",
        "\n",
        "print(f\"Predicted answer is: {k}\")\n",
        "print(f\"Probability of Certainty was: {pred_results[0][val_max]}\")"
      ],
      "metadata": {
        "colab": {
          "base_uri": "https://localhost:8080/"
        },
        "id": "ma2ZR0bstyq9",
        "outputId": "019cc778-80d2-4e5a-d500-dc3f7e787117"
      },
      "execution_count": 71,
      "outputs": [
        {
          "output_type": "stream",
          "name": "stdout",
          "text": [
            "Predicted answer is: yes\n",
            "Probability of Certainty was: 0.997403085231781\n"
          ]
        }
      ]
    },
    {
      "cell_type": "code",
      "source": [
        ""
      ],
      "metadata": {
        "id": "4FGgwmGzuXcH"
      },
      "execution_count": null,
      "outputs": []
    }
  ]
}